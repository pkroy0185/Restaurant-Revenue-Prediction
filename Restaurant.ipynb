{
 "cells": [
  {
   "cell_type": "markdown",
   "id": "linear-property",
   "metadata": {},
   "source": [
    "#                              Restaurant Revenue Prediction"
   ]
  },
  {
   "cell_type": "markdown",
   "id": "coral-radar",
   "metadata": {},
   "source": [
    "# Importing the libraries"
   ]
  },
  {
   "cell_type": "code",
   "execution_count": 1,
   "id": "hourly-coordinator",
   "metadata": {},
   "outputs": [],
   "source": [
    "import pandas as pd\n",
    "import numpy as np\n",
    "import datetime as dt\n",
    "import matplotlib.pyplot as plt\n",
    "from sklearn.preprocessing import StandardScaler\n",
    "from sklearn.metrics import mean_squared_error as mse"
   ]
  },
  {
   "cell_type": "markdown",
   "id": "saved-oklahoma",
   "metadata": {},
   "source": [
    "# Importing the datasets"
   ]
  },
  {
   "cell_type": "code",
   "execution_count": 2,
   "id": "eligible-violence",
   "metadata": {
    "scrolled": true
   },
   "outputs": [],
   "source": [
    "train_dataset = pd.read_csv('D:\\\\AdvancePython\\\\week2\\\\project1\\\\train.csv')\n",
    "test_dataset = pd.read_csv('D:\\\\AdvancePython\\\\week2\\\\project1\\\\test.csv')"
   ]
  },
  {
   "cell_type": "markdown",
   "id": "mediterranean-scene",
   "metadata": {},
   "source": [
    "# Data Pre-processing"
   ]
  },
  {
   "cell_type": "code",
   "execution_count": 3,
   "id": "german-stanford",
   "metadata": {},
   "outputs": [],
   "source": [
    "a=train_dataset[\"Open Date\"].unique()\n",
    "b=dict()\n",
    "c=0\n",
    "for i in a:\n",
    "  b.update({i:c})\n",
    "  c=c+1\n",
    "train_dataset[\"Open Date\"]=train_dataset[\"Open Date\"].map(b)\n",
    "\n",
    "a1=test_dataset[\"Open Date\"].unique()\n",
    "b1=dict()\n",
    "c1=0\n",
    "for i in a1:\n",
    "  b1.update({i:c1})\n",
    "  c1=c1+1\n",
    "test_dataset[\"Open Date\"]=test_dataset[\"Open Date\"].map(b1)"
   ]
  },
  {
   "cell_type": "code",
   "execution_count": 4,
   "id": "chronic-amendment",
   "metadata": {},
   "outputs": [],
   "source": [
    "a=train_dataset[\"Type\"].unique()\n",
    "b=dict()\n",
    "c=0\n",
    "for i in a:\n",
    "  b.update({i:c})\n",
    "  c=c+1\n",
    "train_dataset[\"Type\"]=train_dataset[\"Type\"].map(b)\n",
    "\n",
    "a1=test_dataset[\"Type\"].unique()\n",
    "b1=dict()\n",
    "c1=0\n",
    "for i in a1:\n",
    "  b1.update({i:c1})\n",
    "  c1=c1+1\n",
    "test_dataset[\"Type\"]=test_dataset[\"Type\"].map(b1)"
   ]
  },
  {
   "cell_type": "code",
   "execution_count": 5,
   "id": "aging-agency",
   "metadata": {},
   "outputs": [],
   "source": [
    "a=train_dataset[\"City Group\"].unique()\n",
    "b=dict()\n",
    "c=0\n",
    "for i in a:\n",
    "  b.update({i:c})\n",
    "  c=c+1\n",
    "train_dataset[\"City Group\"]=train_dataset[\"City Group\"].map(b)\n",
    "\n",
    "a1=test_dataset[\"City Group\"].unique()\n",
    "b1=dict()\n",
    "c1=0\n",
    "for i in a1:\n",
    "  b1.update({i:c1})\n",
    "  c1=c1+1\n",
    "test_dataset[\"City Group\"]=test_dataset[\"City Group\"].map(b1)"
   ]
  },
  {
   "cell_type": "code",
   "execution_count": 6,
   "id": "cloudy-multimedia",
   "metadata": {},
   "outputs": [],
   "source": [
    "a=train_dataset[\"City\"].unique()\n",
    "b=dict()\n",
    "c=0\n",
    "for i in a:\n",
    "  b.update({i:c})\n",
    "  c=c+1\n",
    "train_dataset['City']=train_dataset[\"City\"].map(b)\n",
    "\n",
    "a1=test_dataset[\"City\"].unique()\n",
    "b1=dict()\n",
    "c1=0\n",
    "for i in a1:\n",
    "  b1.update({i:c1})\n",
    "  c1=c1+1\n",
    "test_dataset['City']=test_dataset[\"City\"].map(b1)"
   ]
  },
  {
   "cell_type": "markdown",
   "id": "normal-stocks",
   "metadata": {},
   "source": [
    "# Splitting Columns"
   ]
  },
  {
   "cell_type": "code",
   "execution_count": 7,
   "id": "still-stone",
   "metadata": {},
   "outputs": [],
   "source": [
    "x = train_dataset.iloc[:,:-1].values\n",
    "y = train_dataset.iloc[:,-1].values"
   ]
  },
  {
   "cell_type": "code",
   "execution_count": 8,
   "id": "relative-yacht",
   "metadata": {},
   "outputs": [
    {
     "name": "stdout",
     "output_type": "stream",
     "text": [
      "(100000, 42) (137, 42) (137,)\n"
     ]
    }
   ],
   "source": [
    "x1=test_dataset.iloc[:,:].values\n",
    "print(x1.shape,x.shape,y.shape)"
   ]
  },
  {
   "cell_type": "markdown",
   "id": "quick-flush",
   "metadata": {},
   "source": [
    "# Training the Simple Linear Regression model on the Training set"
   ]
  },
  {
   "cell_type": "code",
   "execution_count": 9,
   "id": "spread-croatia",
   "metadata": {},
   "outputs": [
    {
     "data": {
      "text/plain": [
       "LinearRegression()"
      ]
     },
     "execution_count": 9,
     "metadata": {},
     "output_type": "execute_result"
    }
   ],
   "source": [
    "from sklearn.linear_model import LinearRegression\n",
    "regressor = LinearRegression()\n",
    "regressor.fit(x, y)\n"
   ]
  },
  {
   "cell_type": "markdown",
   "id": "perfect-lottery",
   "metadata": {},
   "source": [
    "# Finding mean squared errror"
   ]
  },
  {
   "cell_type": "code",
   "execution_count": 10,
   "id": "sharp-sudan",
   "metadata": {},
   "outputs": [
    {
     "data": {
      "text/plain": [
       "4571979450827.97"
      ]
     },
     "execution_count": 10,
     "metadata": {},
     "output_type": "execute_result"
    }
   ],
   "source": [
    "y_pred = regressor.predict(x)\n",
    "y_pred1 = regressor.predict(x1)\n",
    "k = mse(y_pred, y)\n",
    "k"
   ]
  },
  {
   "cell_type": "markdown",
   "id": "aerial-emerald",
   "metadata": {},
   "source": [
    "# Predicting the Test set results"
   ]
  },
  {
   "cell_type": "code",
   "execution_count": 11,
   "id": "respected-assembly",
   "metadata": {},
   "outputs": [
    {
     "data": {
      "text/plain": [
       "array([[ 6105732.88,  5653753.  ],\n",
       "       [ 5113456.77,  6923131.  ],\n",
       "       [ 3206054.2 ,  2055379.  ],\n",
       "       [ 3969054.14,  2675511.  ],\n",
       "       [ 3272584.78,  4316715.  ],\n",
       "       [ 6484102.52,  5017319.  ],\n",
       "       [ 4914585.01,  5166635.  ],\n",
       "       [ 4357477.26,  4491607.  ],\n",
       "       [ 4052995.8 ,  4952497.  ],\n",
       "       [ 2555168.69,  5444227.  ],\n",
       "       [ 6574861.11,  3745135.  ],\n",
       "       [ 4835190.  ,  5161370.  ],\n",
       "       [ 2073748.98,  1734634.  ],\n",
       "       [ 4495414.41,  4807746.  ],\n",
       "       [ 1944393.98,  1999097.  ],\n",
       "       [ 3784882.07,  3218918.  ],\n",
       "       [ 6739515.74, 19696939.  ],\n",
       "       [ 5230727.61,  8213524.  ],\n",
       "       [ 3104180.25,  5337526.  ],\n",
       "       [ 3585504.8 ,  2021934.  ],\n",
       "       [ 7006918.81,  5525735.  ],\n",
       "       [ 4605253.32,  1149870.  ],\n",
       "       [ 3192217.84,  3956086.  ],\n",
       "       [ 4728504.53,  2999068.  ],\n",
       "       [ 6439042.58,  8904084.  ],\n",
       "       [ 4167705.25,  3778621.  ],\n",
       "       [ 4400407.74,  2267425.  ],\n",
       "       [ 3898917.86,  5435276.  ],\n",
       "       [ 3805382.12,  4705945.  ],\n",
       "       [ 2911386.1 ,  3447890.  ],\n",
       "       [ 1639953.32,  3008199.  ],\n",
       "       [ 2504834.92,  2058644.  ],\n",
       "       [ 4279617.99,  3261924.  ],\n",
       "       [ 3598204.54,  2371202.  ],\n",
       "       [ 4781188.52,  4100886.  ],\n",
       "       [ 3620129.9 ,  3903884.  ],\n",
       "       [ 4664165.61,  3028267.  ],\n",
       "       [ 4954079.9 ,  2740687.  ],\n",
       "       [ 6743485.29,  5461700.  ],\n",
       "       [ 3833263.06,  3818055.  ],\n",
       "       [ 7412009.26,  6836483.  ],\n",
       "       [ 5834006.5 ,  4554237.  ],\n",
       "       [ 5360091.43,  4952255.  ],\n",
       "       [ 3326387.21,  2732645.  ],\n",
       "       [ 5021860.14,  4264176.  ],\n",
       "       [ 2912920.38,  3752885.  ],\n",
       "       [ 4036976.63,  4250758.  ],\n",
       "       [ 7770126.99,  7865428.  ],\n",
       "       [ 4044346.49,  7201784.  ],\n",
       "       [ 7917848.72,  8630682.  ],\n",
       "       [ 4034881.85,  2156098.  ],\n",
       "       [ 2350636.13,  3273041.  ],\n",
       "       [ 2859406.97,  1763231.  ],\n",
       "       [ 3904478.86,  5595267.  ],\n",
       "       [ 5151729.58,  4651866.  ],\n",
       "       [ 5846681.01,  6941173.  ],\n",
       "       [ 4059301.22,  2390534.  ],\n",
       "       [ 4999058.18,  3258837.  ],\n",
       "       [ 3196146.02,  3004429.  ],\n",
       "       [ 4173671.75,  3600467.  ],\n",
       "       [ 3698378.56,  3164972.  ],\n",
       "       [ 5004356.84,  4350573.  ],\n",
       "       [ 6039792.9 ,  5286212.  ],\n",
       "       [ 2668824.39,  1619683.  ],\n",
       "       [ 4615966.08,  2551252.  ],\n",
       "       [ 5104863.32,  1756069.  ],\n",
       "       [ 3694070.15,  1882131.  ],\n",
       "       [ 6500896.44,  4052733.  ],\n",
       "       [ 4986258.89,  3836721.  ],\n",
       "       [ 3139684.16,  3452382.  ],\n",
       "       [ 4264281.53,  3982767.  ],\n",
       "       [ 5711826.65,  4136425.  ],\n",
       "       [ 4218309.98,  2525375.  ],\n",
       "       [ 6110814.06,  3347767.  ],\n",
       "       [ 6415364.47,  5500818.  ],\n",
       "       [ 8197516.12, 16549064.  ],\n",
       "       [ 2147065.96,  4590423.  ],\n",
       "       [ 4214735.29,  1904842.  ],\n",
       "       [ 3209872.21,  3871344.  ],\n",
       "       [ 4351439.25,  6313221.  ],\n",
       "       [ 5115488.78,  3727364.  ],\n",
       "       [ 4413044.75,  4066618.  ],\n",
       "       [ 3854376.43,  3807496.  ],\n",
       "       [ 6411441.5 ,  5966193.  ],\n",
       "       [ 3623058.42,  4250553.  ],\n",
       "       [ 8162042.04,  7495092.  ],\n",
       "       [ 2779895.33,  3351383.  ],\n",
       "       [ 5266552.79,  5906596.  ],\n",
       "       [ 3715596.69,  2025297.  ],\n",
       "       [ 3014134.01,  2364478.  ],\n",
       "       [ 3331150.01,  3426169.  ],\n",
       "       [ 3154010.4 ,  2083447.  ],\n",
       "       [ 7187353.13,  6782425.  ],\n",
       "       [ 1803624.49,  3410878.  ],\n",
       "       [ 3688555.19,  3753720.  ],\n",
       "       [ 3511179.19,  1270499.  ],\n",
       "       [ 5088813.81,  6412623.  ],\n",
       "       [ 7375920.56,  6694797.  ],\n",
       "       [ 4695225.6 ,  2344689.  ],\n",
       "       [ 7325757.14, 13575224.  ],\n",
       "       [ 5256698.68,  9652350.  ],\n",
       "       [ 4239968.27,  4758476.  ],\n",
       "       [ 3544049.47,  2738052.  ],\n",
       "       [ 3575010.8 ,  4429512.  ],\n",
       "       [ 1452016.9 ,  4467728.  ],\n",
       "       [ 3555788.18,  2792031.  ],\n",
       "       [ 2013118.09,  4888774.  ],\n",
       "       [ 4631652.04,  3248660.  ],\n",
       "       [ 3998060.95,  3570392.  ],\n",
       "       [ 5902837.64,  4219263.  ],\n",
       "       [ 2528562.08,  2954086.  ],\n",
       "       [ 4310964.35,  2993069.  ],\n",
       "       [ 5785456.57,  3784230.  ],\n",
       "       [ 3873368.24,  2097022.  ],\n",
       "       [ 3881691.71,  4155435.  ],\n",
       "       [ 3323468.3 ,  4882985.  ],\n",
       "       [ 4634890.23,  8894598.  ],\n",
       "       [ 4504994.59,  2018785.  ],\n",
       "       [ 2740636.53,  1847826.  ],\n",
       "       [ 5170601.76,  3780019.  ],\n",
       "       [ 4176161.86,  4067566.  ],\n",
       "       [ 5459777.13,  3445076.  ],\n",
       "       [ 4082766.37,  4286645.  ],\n",
       "       [ 4397192.43,  4263629.  ],\n",
       "       [ 5758909.59,  3810007.  ],\n",
       "       [ 2079895.73,  4780607.  ],\n",
       "       [ 3138028.62,  4015749.  ],\n",
       "       [ 4046561.84,  7592272.  ],\n",
       "       [ 5251522.37,  2383840.  ],\n",
       "       [ 5277483.91,  3939804.  ],\n",
       "       [ 4861666.62,  3376145.  ],\n",
       "       [ 4073984.85,  3199619.  ],\n",
       "       [ 4175243.61,  5787594.  ],\n",
       "       [ 5444997.08,  9262754.  ],\n",
       "       [ 3965584.18,  2544857.  ],\n",
       "       [ 5530348.27,  7217634.  ],\n",
       "       [ 5291615.14,  6363241.  ]])"
      ]
     },
     "execution_count": 11,
     "metadata": {},
     "output_type": "execute_result"
    }
   ],
   "source": [
    "np.set_printoptions(precision=2)\n",
    "np.concatenate((y_pred.reshape(len(y_pred),1), y.reshape(len(y),1)),1)"
   ]
  },
  {
   "cell_type": "markdown",
   "id": "liberal-channels",
   "metadata": {},
   "source": [
    "# Training the Polynomial Regression model on the whole dataset and finding mean squared error"
   ]
  },
  {
   "cell_type": "code",
   "execution_count": 19,
   "id": "occupied-fishing",
   "metadata": {},
   "outputs": [
    {
     "data": {
      "text/plain": [
       "3.952026087138789e-09"
      ]
     },
     "execution_count": 19,
     "metadata": {},
     "output_type": "execute_result"
    }
   ],
   "source": [
    "from sklearn.preprocessing import PolynomialFeatures\n",
    "p_reg = PolynomialFeatures(degree = 4)\n",
    "X_poly = p_reg.fit_transform(x)\n",
    "lin_reg = LinearRegression()\n",
    "lin_reg.fit(X_poly, y)\n",
    "lin_pred = lin_reg.predict(X_poly)\n",
    "lin_mse = mse(y,lin_pred)\n",
    "lin_mse"
   ]
  },
  {
   "cell_type": "markdown",
   "id": "aboriginal-spoke",
   "metadata": {},
   "source": [
    "# Training the Random Forest Regression model on the whole dataset and finding mean squared error"
   ]
  },
  {
   "cell_type": "code",
   "execution_count": 13,
   "id": "administrative-sword",
   "metadata": {},
   "outputs": [
    {
     "data": {
      "text/plain": [
       "858774668100.2616"
      ]
     },
     "execution_count": 13,
     "metadata": {},
     "output_type": "execute_result"
    }
   ],
   "source": [
    "from sklearn.ensemble import RandomForestRegressor\n",
    "rand_reg = RandomForestRegressor()\n",
    "rand_reg.fit(x, y)\n",
    "rand_pred = rand_reg.predict(x)\n",
    "rand_pred1 = rand_reg.predict(x1)\n",
    "rand_mse = mse(y,rand_pred)\n",
    "rand_mse"
   ]
  },
  {
   "cell_type": "markdown",
   "id": "chief-problem",
   "metadata": {},
   "source": [
    "# Finding Importance of each variable"
   ]
  },
  {
   "cell_type": "code",
   "execution_count": 14,
   "id": "catholic-short",
   "metadata": {
    "scrolled": true
   },
   "outputs": [
    {
     "name": "stdout",
     "output_type": "stream",
     "text": [
      "Variable: P29                  Importance: 0.17\n",
      "Variable: Id                   Importance: 0.11\n",
      "Variable: Open Date            Importance: 0.09\n",
      "Variable: City                 Importance: 0.08\n",
      "Variable: P19                  Importance: 0.06\n",
      "Variable: P28                  Importance: 0.05\n",
      "Variable: P6                   Importance: 0.04\n",
      "Variable: P20                  Importance: 0.04\n",
      "Variable: P17                  Importance: 0.03\n",
      "Variable: P22                  Importance: 0.03\n",
      "Variable: P23                  Importance: 0.03\n",
      "Variable: P1                   Importance: 0.02\n",
      "Variable: P2                   Importance: 0.02\n",
      "Variable: P8                   Importance: 0.02\n",
      "Variable: P11                  Importance: 0.02\n",
      "Variable: P12                  Importance: 0.02\n",
      "Variable: P13                  Importance: 0.02\n",
      "Variable: Type                 Importance: 0.01\n",
      "Variable: P3                   Importance: 0.01\n",
      "Variable: P4                   Importance: 0.01\n",
      "Variable: P5                   Importance: 0.01\n",
      "Variable: P10                  Importance: 0.01\n",
      "Variable: P14                  Importance: 0.01\n",
      "Variable: P15                  Importance: 0.01\n",
      "Variable: P21                  Importance: 0.01\n",
      "Variable: P25                  Importance: 0.01\n",
      "Variable: P26                  Importance: 0.01\n",
      "Variable: P33                  Importance: 0.01\n",
      "Variable: P37                  Importance: 0.01\n",
      "Variable: City Group           Importance: 0.0\n",
      "Variable: P7                   Importance: 0.0\n",
      "Variable: P9                   Importance: 0.0\n",
      "Variable: P16                  Importance: 0.0\n",
      "Variable: P18                  Importance: 0.0\n",
      "Variable: P24                  Importance: 0.0\n",
      "Variable: P27                  Importance: 0.0\n",
      "Variable: P30                  Importance: 0.0\n",
      "Variable: P31                  Importance: 0.0\n",
      "Variable: P32                  Importance: 0.0\n",
      "Variable: P34                  Importance: 0.0\n",
      "Variable: P35                  Importance: 0.0\n",
      "Variable: P36                  Importance: 0.0\n"
     ]
    }
   ],
   "source": [
    "f=train_dataset.drop('revenue', axis = 1)\n",
    "f_list=list(f.columns)\n",
    "importances = list(rand_reg.feature_importances_)\n",
    "feature_importances = [(feature, round(importance, 2)) for feature, importance in zip(f, importances)]\n",
    "feature_importances = sorted(feature_importances, key = lambda x: x[1], reverse = True)\n",
    "[print('Variable: {:20} Importance: {}'.format(*pair)) for pair in feature_importances];"
   ]
  },
  {
   "cell_type": "markdown",
   "id": "improving-month",
   "metadata": {},
   "source": [
    "# Plotting importances versus variable graph"
   ]
  },
  {
   "cell_type": "code",
   "execution_count": 15,
   "id": "thirty-vegetation",
   "metadata": {
    "scrolled": true
   },
   "outputs": [
    {
     "data": {
      "image/png": "[encoded data removed]",
      "text/plain": [
       "<Figure size 1440x720 with 1 Axes>"
      ]
     },
     "metadata": {
      "needs_background": "light"
     },
     "output_type": "display_data"
    }
   ],
   "source": [
    "import matplotlib.pyplot as plt\n",
    "x_values = list(range(len(importances)))\n",
    "plt.figure(figsize = (20,10))\n",
    "plt.bar(x_values, importances)\n",
    "#plt.xticks(x_values,train_dataset.columns,rotation='vertical')\n",
    "plt.ylabel('Importance'); plt.xlabel('Variable'); plt.title('Variable Importances');"
   ]
  },
  {
   "cell_type": "markdown",
   "id": "twelve-democracy",
   "metadata": {},
   "source": [
    "# Findind mean absolute error and accuracy"
   ]
  },
  {
   "cell_type": "code",
   "execution_count": 16,
   "id": "behind-prison",
   "metadata": {
    "scrolled": true
   },
   "outputs": [
    {
     "name": "stdout",
     "output_type": "stream",
     "text": [
      "Mean Absolute Error: 601147.99 degrees.\n",
      "Accuracy: 84.3 %.\n"
     ]
    }
   ],
   "source": [
    "errors = abs(rand_pred-y)\n",
    "print('Mean Absolute Error:', round(np.mean(errors), 2), 'degrees.')\n",
    "mape = 100 * (errors / y)\n",
    "accuracy = 100 - np.mean(mape)\n",
    "print('Accuracy:', round(accuracy, 2), '%.')"
   ]
  },
  {
   "cell_type": "code",
   "execution_count": 17,
   "id": "spare-cache",
   "metadata": {},
   "outputs": [
    {
     "name": "stdout",
     "output_type": "stream",
     "text": [
      "Mean Absolute Error: 696223.43 degrees.\n",
      "Accuracy: 80.74 %.\n"
     ]
    }
   ],
   "source": [
    "rand_reg_most_important = RandomForestRegressor()\n",
    "important_indices = [f_list.index('P29'), f_list.index('Id'), f_list.index('City'), f_list.index('Open Date')]\n",
    "train_important = x[:,important_indices]\n",
    "test_important = x1[:,important_indices]\n",
    "rand_reg_most_important.fit(train_important, y)\n",
    "predictions = rand_reg_most_important.predict(train_important)\n",
    "errors = abs(predictions - y)\n",
    "print('Mean Absolute Error:', round(np.mean(errors), 2), 'degrees.')\n",
    "mape = np.mean(100 * (errors / y))\n",
    "accuracy = 100 - mape\n",
    "print('Accuracy:', round(accuracy, 2), '%.')"
   ]
  },
  {
   "cell_type": "markdown",
   "id": "rural-metallic",
   "metadata": {},
   "source": [
    "# Training the Decision Tree Regression model on the whole dataset and finding mean squared error"
   ]
  },
  {
   "cell_type": "code",
   "execution_count": 18,
   "id": "assured-capability",
   "metadata": {},
   "outputs": [
    {
     "name": "stdout",
     "output_type": "stream",
     "text": [
      "0.0\n"
     ]
    }
   ],
   "source": [
    "from sklearn.tree import DecisionTreeRegressor\n",
    "d_reg = DecisionTreeRegressor()\n",
    "d_reg.fit(x,y)\n",
    "d_pred = d_reg.predict(x)\n",
    "d_pred1=d_reg.predict(x1)\n",
    "d_mse = mse(y,d_pred)\n",
    "print(d_mse)"
   ]
  }
 ],
 "metadata": {
  "kernelspec": {
   "display_name": "Python 3",
   "language": "python",
   "name": "python3"
  },
  "language_info": {
   "codemirror_mode": {
    "name": "ipython",
    "version": 3
   },
   "file_extension": ".py",
   "mimetype": "text/x-python",
   "name": "python",
   "nbconvert_exporter": "python",
   "pygments_lexer": "ipython3",
   "version": "3.9.1"
  }
 },
 "nbformat": 4,
 "nbformat_minor": 5
}
